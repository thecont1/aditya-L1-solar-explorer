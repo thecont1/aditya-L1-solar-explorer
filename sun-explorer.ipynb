{
 "cells": [
  {
   "cell_type": "code",
   "execution_count": 18,
   "metadata": {},
   "outputs": [
    {
     "name": "stdout",
     "output_type": "stream",
     "text": [
      "astropy 7.0.1\n",
      "sherpa 4.17.0\n",
      "sunpy 6.1.1\n"
     ]
    },
    {
     "ename": "ModuleNotFoundError",
     "evalue": "No module named 'sunpy.net.helioviewer'",
     "output_type": "error",
     "traceback": [
      "\u001b[31m---------------------------------------------------------------------------\u001b[39m",
      "\u001b[31mModuleNotFoundError\u001b[39m                       Traceback (most recent call last)",
      "\u001b[36mCell\u001b[39m\u001b[36m \u001b[39m\u001b[32mIn[18]\u001b[39m\u001b[32m, line 38\u001b[39m\n\u001b[32m     35\u001b[39m \u001b[38;5;28;01mfrom\u001b[39;00m\u001b[38;5;250m \u001b[39m\u001b[34;01msunpy\u001b[39;00m\u001b[34;01m.\u001b[39;00m\u001b[34;01mnet\u001b[39;00m\u001b[38;5;250m \u001b[39m\u001b[38;5;28;01mimport\u001b[39;00m Fido, attrs \u001b[38;5;28;01mas\u001b[39;00m a\n\u001b[32m     37\u001b[39m \u001b[38;5;66;03m# Import HelioviewerClient from sunpy.net.helioviewer\u001b[39;00m\n\u001b[32m---> \u001b[39m\u001b[32m38\u001b[39m \u001b[38;5;28;01mfrom\u001b[39;00m\u001b[38;5;250m \u001b[39m\u001b[34;01msunpy\u001b[39;00m\u001b[34;01m.\u001b[39;00m\u001b[34;01mnet\u001b[39;00m\u001b[34;01m.\u001b[39;00m\u001b[34;01mhelioviewer\u001b[39;00m\u001b[38;5;250m \u001b[39m\u001b[38;5;28;01mimport\u001b[39;00m HelioviewerClient\n\u001b[32m     39\u001b[39m \u001b[38;5;28;01mfrom\u001b[39;00m\u001b[38;5;250m \u001b[39m\u001b[34;01msunpy\u001b[39;00m\u001b[34;01m.\u001b[39;00m\u001b[34;01mnet\u001b[39;00m\u001b[38;5;250m \u001b[39m\u001b[38;5;28;01mimport\u001b[39;00m helioviewer\n\u001b[32m     40\u001b[39m HelioviewerClient = helioviewer.HelioviewerClient\n",
      "\u001b[31mModuleNotFoundError\u001b[39m: No module named 'sunpy.net.helioviewer'"
     ]
    }
   ],
   "source": [
    "!pip install sunpy astropy sherpa matplotlib zeep drms -q\n",
    "\n",
    "# Standard library imports\n",
    "import numpy as np\n",
    "\n",
    "# Third-party imports with version printing\n",
    "import astropy\n",
    "print(\"astropy\", astropy.__version__)\n",
    "\n",
    "import sherpa\n",
    "print(\"sherpa\", sherpa.__version__)\n",
    "\n",
    "import sunpy\n",
    "print(\"sunpy\", sunpy.__version__)\n",
    "\n",
    "# Third-party module imports\n",
    "import matplotlib.pyplot as plt\n",
    "import astropy.constants as const\n",
    "import astropy.units as u\n",
    "from astropy.coordinates import (\n",
    "    SkyCoord,\n",
    "    solar_system_ephemeris,\n",
    "    HeliocentricTrueEcliptic\n",
    ")\n",
    "from astropy.time import Time\n",
    "\n",
    "# SunPy specific imports\n",
    "from sunpy.coordinates import (\n",
    "    frames,\n",
    "    get_earth,\n",
    "    HeliographicCarrington,\n",
    "    HeliographicStonyhurst\n",
    ")\n",
    "from sunpy.map import Map\n",
    "from sunpy.net import Fido, attrs as a\n",
    "\n",
    "# Import HelioviewerClient from sunpy.net.helioviewer\n",
    "from sunpy.net.helioviewer import HelioviewerClient\n",
    "from sunpy.net import helioviewer\n",
    "HelioviewerClient = helioviewer.HelioviewerClient"
   ]
  }
 ],
 "metadata": {
  "kernelspec": {
   "display_name": "labo",
   "language": "python",
   "name": "python3"
  },
  "language_info": {
   "codemirror_mode": {
    "name": "ipython",
    "version": 3
   },
   "file_extension": ".py",
   "mimetype": "text/x-python",
   "name": "python",
   "nbconvert_exporter": "python",
   "pygments_lexer": "ipython3",
   "version": "3.11.11"
  }
 },
 "nbformat": 4,
 "nbformat_minor": 2
}
